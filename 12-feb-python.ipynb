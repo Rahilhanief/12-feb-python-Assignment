{
 "cells": [
  {
   "cell_type": "code",
   "execution_count": 1,
   "id": "02d6b740-3036-48cc-8923-97a0b76d988a",
   "metadata": {},
   "outputs": [
    {
     "data": {
      "text/plain": [
       "\"\\nAn Exception is an event that occurs during the program execution and disrupts the normal flow of \\nthe program's execution.\\nAn error is an issue in a program that prevents the program from completing its task. In comparison,\\nan exception is a condition that interrupts the normal flow of the program.\\nBoth errors and exceptions are a type of runtime error, which means they occur during the execution of a program.\\n\""
      ]
     },
     "execution_count": 1,
     "metadata": {},
     "output_type": "execute_result"
    }
   ],
   "source": [
    "## Q No. 1  :\n",
    "\"\"\"\n",
    "An Exception is an event that occurs during the program execution and disrupts the normal flow of \n",
    "the program's execution.\n",
    "An error is an issue in a program that prevents the program from completing its task. In comparison,\n",
    "an exception is a condition that interrupts the normal flow of the program.\n",
    "Both errors and exceptions are a type of runtime error, which means they occur during the execution of a program.\n",
    "\"\"\""
   ]
  },
  {
   "cell_type": "code",
   "execution_count": 3,
   "id": "3a8ae1c3-f327-4684-b586-15d18817e804",
   "metadata": {},
   "outputs": [
    {
     "ename": "FileNotFoundError",
     "evalue": "[Errno 2] No such file or directory: 'test3.txt'",
     "output_type": "error",
     "traceback": [
      "\u001b[0;31m---------------------------------------------------------------------------\u001b[0m",
      "\u001b[0;31mFileNotFoundError\u001b[0m                         Traceback (most recent call last)",
      "Cell \u001b[0;32mIn[3], line 4\u001b[0m\n\u001b[1;32m      1\u001b[0m \u001b[38;5;66;03m## Q No. 2:\u001b[39;00m\n\u001b[1;32m      2\u001b[0m \u001b[38;5;124;03m\"\"\"When an exception occurred, if you don't handle it, the program terminates abruptly and the code \u001b[39;00m\n\u001b[1;32m      3\u001b[0m \u001b[38;5;124;03mpast the line that caused the exception will not get executed.\"\"\"\u001b[39;00m\n\u001b[0;32m----> 4\u001b[0m \u001b[38;5;28;01mwith\u001b[39;00m \u001b[38;5;28;43mopen\u001b[39;49m\u001b[43m \u001b[49m\u001b[43m(\u001b[49m\u001b[38;5;124;43m\"\u001b[39;49m\u001b[38;5;124;43mtest3.txt\u001b[39;49m\u001b[38;5;124;43m\"\u001b[39;49m\u001b[43m,\u001b[49m\u001b[38;5;124;43m\"\u001b[39;49m\u001b[38;5;124;43mr\u001b[39;49m\u001b[38;5;124;43m\"\u001b[39;49m\u001b[43m)\u001b[49m \u001b[38;5;28;01mas\u001b[39;00m f :\n\u001b[1;32m      5\u001b[0m     \u001b[38;5;28mprint\u001b[39m(f\u001b[38;5;241m.\u001b[39mread())\n",
      "File \u001b[0;32m/opt/conda/lib/python3.10/site-packages/IPython/core/interactiveshell.py:282\u001b[0m, in \u001b[0;36m_modified_open\u001b[0;34m(file, *args, **kwargs)\u001b[0m\n\u001b[1;32m    275\u001b[0m \u001b[38;5;28;01mif\u001b[39;00m file \u001b[38;5;129;01min\u001b[39;00m {\u001b[38;5;241m0\u001b[39m, \u001b[38;5;241m1\u001b[39m, \u001b[38;5;241m2\u001b[39m}:\n\u001b[1;32m    276\u001b[0m     \u001b[38;5;28;01mraise\u001b[39;00m \u001b[38;5;167;01mValueError\u001b[39;00m(\n\u001b[1;32m    277\u001b[0m         \u001b[38;5;124mf\u001b[39m\u001b[38;5;124m\"\u001b[39m\u001b[38;5;124mIPython won\u001b[39m\u001b[38;5;124m'\u001b[39m\u001b[38;5;124mt let you open fd=\u001b[39m\u001b[38;5;132;01m{\u001b[39;00mfile\u001b[38;5;132;01m}\u001b[39;00m\u001b[38;5;124m by default \u001b[39m\u001b[38;5;124m\"\u001b[39m\n\u001b[1;32m    278\u001b[0m         \u001b[38;5;124m\"\u001b[39m\u001b[38;5;124mas it is likely to crash IPython. If you know what you are doing, \u001b[39m\u001b[38;5;124m\"\u001b[39m\n\u001b[1;32m    279\u001b[0m         \u001b[38;5;124m\"\u001b[39m\u001b[38;5;124myou can use builtins\u001b[39m\u001b[38;5;124m'\u001b[39m\u001b[38;5;124m open.\u001b[39m\u001b[38;5;124m\"\u001b[39m\n\u001b[1;32m    280\u001b[0m     )\n\u001b[0;32m--> 282\u001b[0m \u001b[38;5;28;01mreturn\u001b[39;00m \u001b[43mio_open\u001b[49m\u001b[43m(\u001b[49m\u001b[43mfile\u001b[49m\u001b[43m,\u001b[49m\u001b[43m \u001b[49m\u001b[38;5;241;43m*\u001b[39;49m\u001b[43margs\u001b[49m\u001b[43m,\u001b[49m\u001b[43m \u001b[49m\u001b[38;5;241;43m*\u001b[39;49m\u001b[38;5;241;43m*\u001b[39;49m\u001b[43mkwargs\u001b[49m\u001b[43m)\u001b[49m\n",
      "\u001b[0;31mFileNotFoundError\u001b[0m: [Errno 2] No such file or directory: 'test3.txt'"
     ]
    }
   ],
   "source": [
    "## Q No. 2:\n",
    "\"\"\"When an exception occurred, if you don't handle it, the program terminates abruptly and the code \n",
    "past the line that caused the exception will not get executed.\"\"\"\n",
    "with open (\"test3.txt\",\"r\") as f :\n",
    "    print(f.read())"
   ]
  },
  {
   "cell_type": "code",
   "execution_count": 5,
   "id": "6fe9c990-8a25-496c-9d32-743df178ba67",
   "metadata": {},
   "outputs": [
    {
     "name": "stdout",
     "output_type": "stream",
     "text": [
      "i m trying to handle file not found error [Errno 2] No such file or directory: 'test5.txt'\n"
     ]
    }
   ],
   "source": [
    "## Q No. 3 :\n",
    "\"\"\"\n",
    "The try and except block in Python is used to catch and handle exceptions.\n",
    "Python executes code following the try statement as a “normal” part of the program.\n",
    "The code that follows the except statement is the program's response to any exceptions in the preceding try clause\n",
    "\"\"\"\n",
    "try :\n",
    "    with open(\"test5.txt\",\"r\") as f :\n",
    "        print(f.read())\n",
    "except FileNotFoundError as e :\n",
    "    print('i m trying to handle file not found error',e)\n"
   ]
  },
  {
   "cell_type": "code",
   "execution_count": 8,
   "id": "14dcabb0-9b28-4d03-b648-e692106d5d37",
   "metadata": {},
   "outputs": [
    {
     "data": {
      "text/plain": [
       "'\\nException handling with try,else,finally,raise\\na.\\nTry: This block will test the excepted error to occur\\nElse: If there is no exception then this block will be executed\\nb.Finally: Finally block always gets executed either exception is generated or not\\nc.raise: raise allows you to throw an exception at any time. \\n'"
      ]
     },
     "execution_count": 8,
     "metadata": {},
     "output_type": "execute_result"
    }
   ],
   "source": [
    "## Q No. 4 :\n",
    "\"\"\"\n",
    "Exception handling with try,else,finally,raise\n",
    "a.\n",
    "Try: This block will test the excepted error to occur\n",
    "Else: If there is no exception then this block will be executed\n",
    "b.Finally: Finally block always gets executed either exception is generated or not\n",
    "c.raise: raise allows you to throw an exception at any time. \n",
    "\"\"\"\n",
    "# example :\n",
    "try :  "
   ]
  },
  {
   "cell_type": "code",
   "execution_count": 14,
   "id": "88d67568-74a0-4346-a06b-4cdd4d147bf8",
   "metadata": {},
   "outputs": [
    {
     "name": "stdout",
     "output_type": "stream",
     "text": [
      "this is file no. 1 \n"
     ]
    }
   ],
   "source": [
    "try :\n",
    "    with open(\"test5.txt\",\"w\") as f :\n",
    "        f.write(\"this is my print for the file\")\n",
    "except FileNotFoundError as e :\n",
    "    print(e)\n",
    "else:\n",
    "    f.close()\n",
    "finally:\n",
    "    print(\"this is file no. 1 \")\n",
    "  "
   ]
  },
  {
   "cell_type": "code",
   "execution_count": 23,
   "id": "1b011e3b-e95a-42b1-aaed-a02e704fd135",
   "metadata": {},
   "outputs": [
    {
     "name": "stdin",
     "output_type": "stream",
     "text": [
      "Enter a number between positive integer:  -11\n"
     ]
    },
    {
     "name": "stdout",
     "output_type": "stream",
     "text": [
      "You provided -11. Please provide positive integer values only\n"
     ]
    }
   ],
   "source": [
    "## Q No. 5 :\n",
    "\"\"\"\n",
    "Custom Exceptions in Python:\n",
    "Sometimes based on project requirement, a programmer needs to create his own exceptions and raise explicitly for\n",
    "corresponding scenarios. Such types of exceptions are called customized Exceptions or Programmatic Exceptions. \n",
    "We can raise a custom exception by using the keyword 'raise'.\n",
    "\n",
    "\n",
    "\n",
    "Python is known for its readability and user-friendliness;\n",
    "using custom exceptions can help us improve this even more, especially when we are designing our package.\n",
    "\n",
    "\"\"\"\n",
    "class NegativeError(Exception):\n",
    "    def __init__(self, data):\n",
    "        self.data = data\n",
    "\n",
    "try:\n",
    "    x = int(input(\"Enter a number between positive integer: \"))\n",
    "   \n",
    "    if x < 0:\n",
    "       \n",
    "        raise NegativeError(x)\n",
    "except NegativeError as e:\n",
    "   \n",
    "\n",
    "     print(\"You provided {}. Please provide positive integer values only\".format(e))"
   ]
  },
  {
   "cell_type": "code",
   "execution_count": 13,
   "id": "1c37db77-5ca2-4b2d-b2a4-22426ddabdf6",
   "metadata": {},
   "outputs": [
    {
     "name": "stdin",
     "output_type": "stream",
     "text": [
      "enter your distance 1000\n"
     ]
    },
    {
     "name": "stdout",
     "output_type": "stream",
     "text": [
      "very high distance\n"
     ]
    }
   ],
   "source": [
    "# Q No. 6 :\n",
    "class distance(Exception):\n",
    "    def __init__(self,path):\n",
    "        self.path=path\n",
    "try :\n",
    "    x=int(input(\"enter your distance\"))\n",
    "    if x<=0 :\n",
    "        raise distance(\"negative distance\")\n",
    "    elif x>500:\n",
    "        raise distance(\"very high distance\")\n",
    "    else :\n",
    "        print(\"valid distance\")\n",
    "except distance as e :\n",
    "    print(e)"
   ]
  }
 ],
 "metadata": {
  "kernelspec": {
   "display_name": "Python 3 (ipykernel)",
   "language": "python",
   "name": "python3"
  },
  "language_info": {
   "codemirror_mode": {
    "name": "ipython",
    "version": 3
   },
   "file_extension": ".py",
   "mimetype": "text/x-python",
   "name": "python",
   "nbconvert_exporter": "python",
   "pygments_lexer": "ipython3",
   "version": "3.10.8"
  }
 },
 "nbformat": 4,
 "nbformat_minor": 5
}
